{
  "nbformat": 4,
  "nbformat_minor": 0,
  "metadata": {
    "colab": {
      "name": "score_analyser.ipynb",
      "provenance": [],
      "authorship_tag": "ABX9TyObej36xnTlGmZerT7RJ3fN",
      "include_colab_link": true
    },
    "kernelspec": {
      "name": "python3",
      "display_name": "Python 3"
    }
  },
  "cells": [
    {
      "cell_type": "markdown",
      "metadata": {
        "id": "view-in-github",
        "colab_type": "text"
      },
      "source": [
        "<a href=\"https://colab.research.google.com/github/bhadreshpsavani/EyeExerciseApp/blob/master/score_analyser.ipynb\" target=\"_parent\"><img src=\"https://colab.research.google.com/assets/colab-badge.svg\" alt=\"Open In Colab\"/></a>"
      ]
    },
    {
      "cell_type": "markdown",
      "metadata": {
        "id": "lPsg5zwhElc_",
        "colab_type": "text"
      },
      "source": [
        "Eye Excercise App will have comparision between Eye Gaze Vector of Exercise Person and User. We will use cosine similarity to check the similarity between two vectors. \n",
        "\n",
        "We will sum up cosine value for each value, it will be shown in the screen as a current score"
      ]
    },
    {
      "cell_type": "code",
      "metadata": {
        "id": "zG9KMn4dC-Rn",
        "colab_type": "code",
        "colab": {
          "base_uri": "https://localhost:8080/",
          "height": 134
        },
        "outputId": "4a9246c2-c293-42d3-8b18-3c304462f5d3"
      },
      "source": [
        "!git clone https://github.com/bhadreshpsavani/EyeExerciseApp.git"
      ],
      "execution_count": 1,
      "outputs": [
        {
          "output_type": "stream",
          "text": [
            "Cloning into 'EyeExerciseApp'...\n",
            "remote: Enumerating objects: 41, done.\u001b[K\n",
            "remote: Counting objects: 100% (41/41), done.\u001b[K\n",
            "remote: Compressing objects: 100% (36/36), done.\u001b[K\n",
            "remote: Total 214 (delta 18), reused 18 (delta 5), pack-reused 173\u001b[K\n",
            "Receiving objects: 100% (214/214), 48.32 MiB | 19.62 MiB/s, done.\n",
            "Resolving deltas: 100% (81/81), done.\n"
          ],
          "name": "stdout"
        }
      ]
    },
    {
      "cell_type": "code",
      "metadata": {
        "id": "RmiAWS_-DHxs",
        "colab_type": "code",
        "colab": {}
      },
      "source": [
        "import pandas as pd"
      ],
      "execution_count": 2,
      "outputs": []
    },
    {
      "cell_type": "code",
      "metadata": {
        "id": "69GWQauEDOeG",
        "colab_type": "code",
        "colab": {
          "base_uri": "https://localhost:8080/",
          "height": 195
        },
        "outputId": "ccd02f95-e1a2-4497-8f02-bf27780d098b"
      },
      "source": [
        "exercise_df = pd.read_csv('/content/EyeExerciseApp/bin/demo.csv')\n",
        "exercise_df.head()"
      ],
      "execution_count": 3,
      "outputs": [
        {
          "output_type": "execute_result",
          "data": {
            "text/html": [
              "<div>\n",
              "<style scoped>\n",
              "    .dataframe tbody tr th:only-of-type {\n",
              "        vertical-align: middle;\n",
              "    }\n",
              "\n",
              "    .dataframe tbody tr th {\n",
              "        vertical-align: top;\n",
              "    }\n",
              "\n",
              "    .dataframe thead th {\n",
              "        text-align: right;\n",
              "    }\n",
              "</style>\n",
              "<table border=\"1\" class=\"dataframe\">\n",
              "  <thead>\n",
              "    <tr style=\"text-align: right;\">\n",
              "      <th></th>\n",
              "      <th>vector_x</th>\n",
              "      <th>vector_y</th>\n",
              "      <th>vector_z</th>\n",
              "    </tr>\n",
              "  </thead>\n",
              "  <tbody>\n",
              "    <tr>\n",
              "      <th>0</th>\n",
              "      <td>0.562360</td>\n",
              "      <td>0.134729</td>\n",
              "      <td>-0.746307</td>\n",
              "    </tr>\n",
              "    <tr>\n",
              "      <th>1</th>\n",
              "      <td>0.629163</td>\n",
              "      <td>0.102327</td>\n",
              "      <td>-0.778753</td>\n",
              "    </tr>\n",
              "    <tr>\n",
              "      <th>2</th>\n",
              "      <td>0.630760</td>\n",
              "      <td>0.049273</td>\n",
              "      <td>-0.786223</td>\n",
              "    </tr>\n",
              "    <tr>\n",
              "      <th>3</th>\n",
              "      <td>0.710340</td>\n",
              "      <td>0.117064</td>\n",
              "      <td>-0.648585</td>\n",
              "    </tr>\n",
              "    <tr>\n",
              "      <th>4</th>\n",
              "      <td>0.389269</td>\n",
              "      <td>0.213766</td>\n",
              "      <td>-0.852774</td>\n",
              "    </tr>\n",
              "  </tbody>\n",
              "</table>\n",
              "</div>"
            ],
            "text/plain": [
              "   vector_x  vector_y  vector_z\n",
              "0  0.562360  0.134729 -0.746307\n",
              "1  0.629163  0.102327 -0.778753\n",
              "2  0.630760  0.049273 -0.786223\n",
              "3  0.710340  0.117064 -0.648585\n",
              "4  0.389269  0.213766 -0.852774"
            ]
          },
          "metadata": {
            "tags": []
          },
          "execution_count": 3
        }
      ]
    },
    {
      "cell_type": "code",
      "metadata": {
        "id": "1xUEQSKFDWPA",
        "colab_type": "code",
        "colab": {
          "base_uri": "https://localhost:8080/",
          "height": 195
        },
        "outputId": "dbdbca4d-55d8-444c-a1bf-309b9faa86f1"
      },
      "source": [
        "user_df = pd.read_csv('/content/EyeExerciseApp/src/cam.csv')\n",
        "user_df.head()"
      ],
      "execution_count": 5,
      "outputs": [
        {
          "output_type": "execute_result",
          "data": {
            "text/html": [
              "<div>\n",
              "<style scoped>\n",
              "    .dataframe tbody tr th:only-of-type {\n",
              "        vertical-align: middle;\n",
              "    }\n",
              "\n",
              "    .dataframe tbody tr th {\n",
              "        vertical-align: top;\n",
              "    }\n",
              "\n",
              "    .dataframe thead th {\n",
              "        text-align: right;\n",
              "    }\n",
              "</style>\n",
              "<table border=\"1\" class=\"dataframe\">\n",
              "  <thead>\n",
              "    <tr style=\"text-align: right;\">\n",
              "      <th></th>\n",
              "      <th>vector_x</th>\n",
              "      <th>vector_y</th>\n",
              "      <th>vector_z</th>\n",
              "    </tr>\n",
              "  </thead>\n",
              "  <tbody>\n",
              "    <tr>\n",
              "      <th>0</th>\n",
              "      <td>0.231528</td>\n",
              "      <td>-0.026729</td>\n",
              "      <td>-0.800178</td>\n",
              "    </tr>\n",
              "    <tr>\n",
              "      <th>1</th>\n",
              "      <td>0.049462</td>\n",
              "      <td>0.068548</td>\n",
              "      <td>-0.838929</td>\n",
              "    </tr>\n",
              "    <tr>\n",
              "      <th>2</th>\n",
              "      <td>0.024221</td>\n",
              "      <td>0.006353</td>\n",
              "      <td>-0.839560</td>\n",
              "    </tr>\n",
              "    <tr>\n",
              "      <th>3</th>\n",
              "      <td>-0.233918</td>\n",
              "      <td>0.018848</td>\n",
              "      <td>-0.837928</td>\n",
              "    </tr>\n",
              "    <tr>\n",
              "      <th>4</th>\n",
              "      <td>-0.082117</td>\n",
              "      <td>-0.036838</td>\n",
              "      <td>-0.862534</td>\n",
              "    </tr>\n",
              "  </tbody>\n",
              "</table>\n",
              "</div>"
            ],
            "text/plain": [
              "   vector_x  vector_y  vector_z\n",
              "0  0.231528 -0.026729 -0.800178\n",
              "1  0.049462  0.068548 -0.838929\n",
              "2  0.024221  0.006353 -0.839560\n",
              "3 -0.233918  0.018848 -0.837928\n",
              "4 -0.082117 -0.036838 -0.862534"
            ]
          },
          "metadata": {
            "tags": []
          },
          "execution_count": 5
        }
      ]
    },
    {
      "cell_type": "code",
      "metadata": {
        "id": "In-IB_HWDf75",
        "colab_type": "code",
        "colab": {}
      },
      "source": [
        "from scipy.spatial.distance import cosine"
      ],
      "execution_count": 6,
      "outputs": []
    },
    {
      "cell_type": "code",
      "metadata": {
        "id": "5ynbKn7XD-Fm",
        "colab_type": "code",
        "colab": {
          "base_uri": "https://localhost:8080/",
          "height": 34
        },
        "outputId": "09f63943-d83a-476d-ebc4-fab212e39776"
      },
      "source": [
        "cosine(exercise_df.iloc[1], user_df.iloc[1])"
      ],
      "execution_count": 9,
      "outputs": [
        {
          "output_type": "execute_result",
          "data": {
            "text/plain": [
              "0.18513199576347572"
            ]
          },
          "metadata": {
            "tags": []
          },
          "execution_count": 9
        }
      ]
    }
  ]
}